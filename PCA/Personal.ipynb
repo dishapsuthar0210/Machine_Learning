{
  "nbformat": 4,
  "nbformat_minor": 0,
  "metadata": {
    "colab": {
      "provenance": []
    },
    "kernelspec": {
      "name": "python3",
      "display_name": "Python 3"
    },
    "language_info": {
      "name": "python"
    }
  },
  "cells": [
    {
      "cell_type": "markdown",
      "source": [
        "**Here I do practical of PRINCIPLE COMPONENT ANALYSIS for 5 data points with 3 features**\n",
        "\n"
      ],
      "metadata": {
        "id": "cOhbO6WFVxsN"
      }
    },
    {
      "cell_type": "code",
      "execution_count": 15,
      "metadata": {
        "id": "5EX14S5ERTbg"
      },
      "outputs": [],
      "source": [
        "#importing needy libraries\n",
        "import numpy as np\n",
        "import matplotlib.pyplot as plt\n",
        "from sklearn.decomposition import PCA\n",
        "from sklearn.preprocessing import StandardScaler"
      ]
    },
    {
      "cell_type": "code",
      "source": [
        "#created dummy datapoints with 3 features which I want to convert in 2 dimensions\n",
        "data=np.array([[1.0,2.0,3.0],[4.0,5.0,6.0],[7.0,8.0,9.0],[10.0,11.0,12.0],[13.0,14.0,15.0]])"
      ],
      "metadata": {
        "id": "ipjBdhcJUPjg"
      },
      "execution_count": 16,
      "outputs": []
    },
    {
      "cell_type": "markdown",
      "source": [
        "scaler.fit(data): This part fits the scaler object to the data. It computes the mean and standard deviation (or other normalization parameters, depending on the scaler) necessary for scaling the data.\n",
        "\n",
        "scaler.transform(data): This part transforms the data based on the scaling parameters learned from the fit step. It applies the scaling transformation to each feature (column) in the dataset.\n",
        "\n",
        "data_std = ...: Finally, the scaled data is assigned to the variable data_std."
      ],
      "metadata": {
        "id": "RV71eYtQW1LM"
      }
    },
    {
      "cell_type": "code",
      "source": [
        "#we did standardisation on our datapoints\n",
        "scaler=StandardScaler()\n",
        "data_std=scaler.fit_transform(data)"
      ],
      "metadata": {
        "id": "4EkqHJ71Ublb"
      },
      "execution_count": 17,
      "outputs": []
    },
    {
      "cell_type": "code",
      "source": [
        "print(data_std)"
      ],
      "metadata": {
        "colab": {
          "base_uri": "https://localhost:8080/"
        },
        "id": "5G9OVUjsUjY1",
        "outputId": "72a8296e-868d-46f9-9088-b6830b76e206"
      },
      "execution_count": 18,
      "outputs": [
        {
          "output_type": "stream",
          "name": "stdout",
          "text": [
            "[[-1.41421356 -1.41421356 -1.41421356]\n",
            " [-0.70710678 -0.70710678 -0.70710678]\n",
            " [ 0.          0.          0.        ]\n",
            " [ 0.70710678  0.70710678  0.70710678]\n",
            " [ 1.41421356  1.41421356  1.41421356]]\n"
          ]
        }
      ]
    },
    {
      "cell_type": "markdown",
      "source": [
        "PCA(n_components=2): This part initializes a PCA object with the parameter n_components set to 2. n_components specifies the number of principal components to retain after the dimensionality reduction. In this case, it indicates that we want to reduce the dimensionality of the data to two dimensions.\n",
        "\n",
        "pca = ...: Finally, the initialized PCA object is assigned to the variable pca, which can then be used to fit and transform the data."
      ],
      "metadata": {
        "id": "w3S6NDGSXBZY"
      }
    },
    {
      "cell_type": "markdown",
      "source": [
        "PCA FIT:The code `pca.fit(data_std)` is fitting the Principal Component Analysis (PCA) algorithm to the standardized (or scaled) data `data_std`. Here's what each part does:\n",
        "\n",
        "1. `data_std`: This is the standardized or scaled data, where each feature (column) has been scaled to have a mean of 0 and a standard deviation of 1, typically achieved using techniques like z-score normalization.\n",
        "\n",
        "2. `pca.fit(data_std)`: This part fits the PCA algorithm to the standardized data. During this step, PCA calculates the principal components of the data, which are the orthogonal vectors in the direction of maximum variance. The `fit` method computes these principal components based on the input data.\n",
        "\n",
        "After this step, the PCA object `pca` will have learned the principal components from the standardized data. These principal components capture the directions along which the data varies the most.\n",
        "\n",
        "Once the PCA algorithm is fitted to the data, you can use it to transform the data to a lower-dimensional space or to perform other tasks such as dimensionality reduction or data visualization.\n",
        "-----------------------------------------------------------------\n",
        "PCA.TRANSFORM:The code `data_pca = pca.transform(data_std)` transforms the standardized (or scaled) data `data_std` using the principal components learned by the PCA algorithm. Here's what each part does:\n",
        "\n",
        "1. `data_std`: This is the standardized (scaled) data, where each feature (column) has been scaled to have a mean of 0 and a standard deviation of 1.\n",
        "\n",
        "2. `pca.transform(data_std)`: This part transforms the standardized data using the principal components learned by the PCA algorithm. Specifically, it projects the data onto the new coordinate system defined by the principal components. This transformation reduces the dimensionality of the data from its original feature space to a lower-dimensional space defined by the principal components.\n",
        "\n",
        "3. `data_pca`: After the transformation, `data_pca` contains the transformed data, where each sample has been represented in terms of the principal components. Each column in `data_pca` corresponds to a principal component, and each row corresponds to a sample in the dataset.\n",
        "\n",
        "This transformation allows you to represent the data in a lower-dimensional space while retaining most of its variance. It can be useful for tasks such as dimensionality reduction, data visualization, or feature extraction. The transformed data can then be used as input for downstream machine learning tasks or further analysis."
      ],
      "metadata": {
        "id": "1eAPHM9LXZey"
      }
    },
    {
      "cell_type": "code",
      "source": [
        "pca=PCA(n_components=2)\n",
        "pca.fit(data_std)\n",
        "data_pca=pca.transform(data_std)\n",
        "components=pca.components_\n",
        "print(components)\n",
        "explained_variance_ratio=pca.explained_variance_ratio_"
      ],
      "metadata": {
        "colab": {
          "base_uri": "https://localhost:8080/"
        },
        "id": "HkDSr_yBUnL8",
        "outputId": "0be814e1-edec-4080-978a-46c45f18bc01"
      },
      "execution_count": 19,
      "outputs": [
        {
          "output_type": "stream",
          "name": "stdout",
          "text": [
            "[[ 0.57735027  0.57735027  0.57735027]\n",
            " [ 0.         -0.70710678  0.70710678]]\n"
          ]
        }
      ]
    },
    {
      "cell_type": "code",
      "source": [
        "print(\"original data\",data)\n",
        "print(\"--------------------------------------------------------------------\")\n",
        "print(\"Standardised Data\",data_std)\n",
        "print(\"--------------------------------------------------------------------\")\n",
        "print(\"Principle Components\",components)\n",
        "print(\"--------------------------------------------------------------------\")\n",
        "print(\"Explained Variance Ratio\",explained_variance_ratio)\n",
        "print(\"--------------------------------------------------------------------\")\n",
        "print(\"Data in Reduced Dimensions\",data_pca)\n",
        "print(\"--------------------------------------------------------------------\")\n",
        "plt.figure(figsize=(8, 6))\n",
        "plt.scatter(data_pca[:, 0], data_pca[:, 1], c='blue', label='Data points')\n",
        "plt.title('PCA Plot of 5 Data Points with 3 Features')\n",
        "plt.xlabel('Principal Component 1')\n",
        "plt.ylabel('Principal Component 2')\n",
        "plt.legend()\n",
        "plt.grid(True)\n",
        "plt.show()"
      ],
      "metadata": {
        "colab": {
          "base_uri": "https://localhost:8080/",
          "height": 963
        },
        "id": "7Z4bO4EAVJhd",
        "outputId": "06a2b1ae-63f9-439a-8f7c-527038b2d92c"
      },
      "execution_count": 20,
      "outputs": [
        {
          "output_type": "stream",
          "name": "stdout",
          "text": [
            "original data [[ 1.  2.  3.]\n",
            " [ 4.  5.  6.]\n",
            " [ 7.  8.  9.]\n",
            " [10. 11. 12.]\n",
            " [13. 14. 15.]]\n",
            "--------------------------------------------------------------------\n",
            "Standardised Data [[-1.41421356 -1.41421356 -1.41421356]\n",
            " [-0.70710678 -0.70710678 -0.70710678]\n",
            " [ 0.          0.          0.        ]\n",
            " [ 0.70710678  0.70710678  0.70710678]\n",
            " [ 1.41421356  1.41421356  1.41421356]]\n",
            "--------------------------------------------------------------------\n",
            "Principle Components [[ 0.57735027  0.57735027  0.57735027]\n",
            " [ 0.         -0.70710678  0.70710678]]\n",
            "--------------------------------------------------------------------\n",
            "Explained Variance Ratio [1. 0.]\n",
            "--------------------------------------------------------------------\n",
            "Data in Reduced Dimensions [[-2.44948974e+00 -1.36716173e-16]\n",
            " [-1.22474487e+00 -6.83580866e-17]\n",
            " [ 7.69185075e-17  4.20834313e-33]\n",
            " [ 1.22474487e+00  6.83580866e-17]\n",
            " [ 2.44948974e+00  1.36716173e-16]]\n",
            "--------------------------------------------------------------------\n"
          ]
        },
        {
          "output_type": "display_data",
          "data": {
            "text/plain": [
              "<Figure size 800x600 with 1 Axes>"
            ],
            "image/png": "[encoded data removed]"
          },
          "metadata": {}
        }
      ]
    }
  ]
}